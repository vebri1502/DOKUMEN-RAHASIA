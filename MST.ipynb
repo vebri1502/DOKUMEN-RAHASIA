{
 "cells": [
  {
   "cell_type": "code",
   "execution_count": 1,
   "metadata": {},
   "outputs": [],
   "source": [
    "edgelist = [[1, 2], \n",
    "            [2, 3], \n",
    "            [3, 1], \n",
    "            [3, 4], \n",
    "            [4, 5], \n",
    "            [4, 6], \n",
    "            [4, 7], \n",
    "            [6, 8], \n",
    "            [6, 9],\n",
    "            [3, 8],\n",
    "            [3, 6],\n",
    "            [7, 9],\n",
    "            [5, 2],\n",
    "            [5, 7],\n",
    "            [1, 8]]"
   ]
  },
  {
   "cell_type": "code",
   "execution_count": 2,
   "metadata": {},
   "outputs": [],
   "source": [
    "def create_graph(edgelist):\n",
    "    graph = {}\n",
    "    for e1, e2 in edgelist:\n",
    "        graph.setdefault(e1, []).append(e2)\n",
    "        graph.setdefault(e2, []).append(e1)\n",
    "    return graph"
   ]
  },
  {
   "cell_type": "code",
   "execution_count": 3,
   "metadata": {},
   "outputs": [
    {
     "data": {
      "text/plain": [
       "{1: [2, 3, 8],\n",
       " 2: [1, 3, 5],\n",
       " 3: [2, 1, 4, 8, 6],\n",
       " 4: [3, 5, 6, 7],\n",
       " 5: [4, 2, 7],\n",
       " 6: [4, 8, 9, 3],\n",
       " 7: [4, 9, 5],\n",
       " 8: [6, 3, 1],\n",
       " 9: [6, 7]}"
      ]
     },
     "execution_count": 3,
     "metadata": {},
     "output_type": "execute_result"
    }
   ],
   "source": [
    "create_graph(edgelist)"
   ]
  },
  {
   "cell_type": "code",
   "execution_count": 13,
   "metadata": {},
   "outputs": [],
   "source": [
    "def mst(start, graph):\n",
    "    closed = set()\n",
    "    edges = []\n",
    "    q = [(start, start)]\n",
    "    while q:\n",
    "        v1, v2 = q.pop()\n",
    "        if v2 in closed:\n",
    "            continue\n",
    "        closed.add(v2)\n",
    "        edges.append((v1, v2))\n",
    "        for v in graph[v2]:\n",
    "            if v in graph:\n",
    "                q.append((v2, v))\n",
    "                \n",
    "        print(edges)\n",
    "    del edges[0]\n",
    "    assert len(edges) == len(graph) - 1\n",
    "#     return edges"
   ]
  },
  {
   "cell_type": "code",
   "execution_count": 14,
   "metadata": {},
   "outputs": [
    {
     "name": "stdout",
     "output_type": "stream",
     "text": [
      "1 1\n"
     ]
    }
   ],
   "source": [
    "start = 1\n",
    "q = [(start, start)]\n",
    "v1, v2 = q.pop()\n",
    "print(v1, v2)"
   ]
  },
  {
   "cell_type": "code",
   "execution_count": 15,
   "metadata": {},
   "outputs": [
    {
     "data": {
      "text/plain": [
       "{1: [2, 3, 8],\n",
       " 2: [1, 3, 5],\n",
       " 3: [2, 1, 4, 8, 6],\n",
       " 4: [3, 5, 6, 7],\n",
       " 5: [4, 2, 7],\n",
       " 6: [4, 8, 9, 3],\n",
       " 7: [4, 9, 5],\n",
       " 8: [6, 3, 1],\n",
       " 9: [6, 7]}"
      ]
     },
     "execution_count": 15,
     "metadata": {},
     "output_type": "execute_result"
    }
   ],
   "source": [
    "graph = create_graph(edgelist)\n",
    "graph"
   ]
  },
  {
   "cell_type": "code",
   "execution_count": 16,
   "metadata": {},
   "outputs": [
    {
     "name": "stdout",
     "output_type": "stream",
     "text": [
      "[(1, 1)]\n",
      "[(1, 1), (1, 8)]\n",
      "[(1, 1), (1, 8), (8, 3)]\n",
      "[(1, 1), (1, 8), (8, 3), (3, 6)]\n",
      "[(1, 1), (1, 8), (8, 3), (3, 6), (6, 9)]\n",
      "[(1, 1), (1, 8), (8, 3), (3, 6), (6, 9), (9, 7)]\n",
      "[(1, 1), (1, 8), (8, 3), (3, 6), (6, 9), (9, 7), (7, 5)]\n",
      "[(1, 1), (1, 8), (8, 3), (3, 6), (6, 9), (9, 7), (7, 5), (5, 2)]\n",
      "[(1, 1), (1, 8), (8, 3), (3, 6), (6, 9), (9, 7), (7, 5), (5, 2), (5, 4)]\n"
     ]
    },
    {
     "ename": "TypeError",
     "evalue": "'NoneType' object is not iterable",
     "output_type": "error",
     "traceback": [
      "\u001b[1;31m---------------------------------------------------------------------------\u001b[0m",
      "\u001b[1;31mTypeError\u001b[0m                                 Traceback (most recent call last)",
      "\u001b[1;32m<ipython-input-16-c8a430223062>\u001b[0m in \u001b[0;36m<module>\u001b[1;34m()\u001b[0m\n\u001b[1;32m----> 1\u001b[1;33m \u001b[0mmin_graph\u001b[0m \u001b[1;33m=\u001b[0m \u001b[0mcreate_graph\u001b[0m\u001b[1;33m(\u001b[0m\u001b[0mmst\u001b[0m\u001b[1;33m(\u001b[0m\u001b[1;36m1\u001b[0m\u001b[1;33m,\u001b[0m \u001b[0mgraph\u001b[0m\u001b[1;33m)\u001b[0m\u001b[1;33m)\u001b[0m\u001b[1;33m\u001b[0m\u001b[1;33m\u001b[0m\u001b[0m\n\u001b[0m\u001b[0;32m      2\u001b[0m \u001b[0mmin_graph\u001b[0m\u001b[1;33m\u001b[0m\u001b[1;33m\u001b[0m\u001b[0m\n",
      "\u001b[1;32m<ipython-input-2-57d11537db8c>\u001b[0m in \u001b[0;36mcreate_graph\u001b[1;34m(edgelist)\u001b[0m\n\u001b[0;32m      1\u001b[0m \u001b[1;32mdef\u001b[0m \u001b[0mcreate_graph\u001b[0m\u001b[1;33m(\u001b[0m\u001b[0medgelist\u001b[0m\u001b[1;33m)\u001b[0m\u001b[1;33m:\u001b[0m\u001b[1;33m\u001b[0m\u001b[1;33m\u001b[0m\u001b[0m\n\u001b[0;32m      2\u001b[0m     \u001b[0mgraph\u001b[0m \u001b[1;33m=\u001b[0m \u001b[1;33m{\u001b[0m\u001b[1;33m}\u001b[0m\u001b[1;33m\u001b[0m\u001b[1;33m\u001b[0m\u001b[0m\n\u001b[1;32m----> 3\u001b[1;33m     \u001b[1;32mfor\u001b[0m \u001b[0me1\u001b[0m\u001b[1;33m,\u001b[0m \u001b[0me2\u001b[0m \u001b[1;32min\u001b[0m \u001b[0medgelist\u001b[0m\u001b[1;33m:\u001b[0m\u001b[1;33m\u001b[0m\u001b[1;33m\u001b[0m\u001b[0m\n\u001b[0m\u001b[0;32m      4\u001b[0m         \u001b[0mgraph\u001b[0m\u001b[1;33m.\u001b[0m\u001b[0msetdefault\u001b[0m\u001b[1;33m(\u001b[0m\u001b[0me1\u001b[0m\u001b[1;33m,\u001b[0m \u001b[1;33m[\u001b[0m\u001b[1;33m]\u001b[0m\u001b[1;33m)\u001b[0m\u001b[1;33m.\u001b[0m\u001b[0mappend\u001b[0m\u001b[1;33m(\u001b[0m\u001b[0me2\u001b[0m\u001b[1;33m)\u001b[0m\u001b[1;33m\u001b[0m\u001b[1;33m\u001b[0m\u001b[0m\n\u001b[0;32m      5\u001b[0m         \u001b[0mgraph\u001b[0m\u001b[1;33m.\u001b[0m\u001b[0msetdefault\u001b[0m\u001b[1;33m(\u001b[0m\u001b[0me2\u001b[0m\u001b[1;33m,\u001b[0m \u001b[1;33m[\u001b[0m\u001b[1;33m]\u001b[0m\u001b[1;33m)\u001b[0m\u001b[1;33m.\u001b[0m\u001b[0mappend\u001b[0m\u001b[1;33m(\u001b[0m\u001b[0me1\u001b[0m\u001b[1;33m)\u001b[0m\u001b[1;33m\u001b[0m\u001b[1;33m\u001b[0m\u001b[0m\n",
      "\u001b[1;31mTypeError\u001b[0m: 'NoneType' object is not iterable"
     ]
    }
   ],
   "source": [
    "min_graph = create_graph(mst(1, graph))\n",
    "min_graph"
   ]
  },
  {
   "cell_type": "code",
   "execution_count": 17,
   "metadata": {},
   "outputs": [
    {
     "name": "stdout",
     "output_type": "stream",
     "text": [
      "[(1, 1)]\n",
      "[(1, 1), (1, 8)]\n",
      "[(1, 1), (1, 8), (8, 3)]\n",
      "[(1, 1), (1, 8), (8, 3), (3, 6)]\n",
      "[(1, 1), (1, 8), (8, 3), (3, 6), (6, 9)]\n",
      "[(1, 1), (1, 8), (8, 3), (3, 6), (6, 9), (9, 7)]\n",
      "[(1, 1), (1, 8), (8, 3), (3, 6), (6, 9), (9, 7), (7, 5)]\n",
      "[(1, 1), (1, 8), (8, 3), (3, 6), (6, 9), (9, 7), (7, 5), (5, 2)]\n",
      "[(1, 1), (1, 8), (8, 3), (3, 6), (6, 9), (9, 7), (7, 5), (5, 2), (5, 4)]\n"
     ]
    }
   ],
   "source": [
    "mst(1, graph)"
   ]
  },
  {
   "cell_type": "code",
   "execution_count": null,
   "metadata": {},
   "outputs": [],
   "source": []
  }
 ],
 "metadata": {
  "kernelspec": {
   "display_name": "Python 3",
   "language": "python",
   "name": "python3"
  },
  "language_info": {
   "codemirror_mode": {
    "name": "ipython",
    "version": 3
   },
   "file_extension": ".py",
   "mimetype": "text/x-python",
   "name": "python",
   "nbconvert_exporter": "python",
   "pygments_lexer": "ipython3",
   "version": "3.6.10"
  }
 },
 "nbformat": 4,
 "nbformat_minor": 2
}
