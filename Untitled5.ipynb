{
 "cells": [
  {
   "cell_type": "code",
   "execution_count": 1,
   "metadata": {},
   "outputs": [],
   "source": [
    "import numpy as np\n",
    "from numpy.random import randint\n",
    "from random import random as rnd\n",
    "from random import gauss, randrange"
   ]
  },
  {
   "cell_type": "code",
   "execution_count": 2,
   "metadata": {},
   "outputs": [],
   "source": [
    "def individual(number_of_genes, upper_limit, lower_limit):\n",
    "    individual = [round(rnd()*(upper_limit-lower_limit) + lower_limit, 1) for x in range(number_of_genes)]\n",
    "    return individual"
   ]
  },
  {
   "cell_type": "code",
   "execution_count": 3,
   "metadata": {},
   "outputs": [
    {
     "data": {
      "text/plain": [
       "[10.1, 10.1, 10.4, 10.5]"
      ]
     },
     "execution_count": 3,
     "metadata": {},
     "output_type": "execute_result"
    }
   ],
   "source": [
    "individual(4, 10, 11)"
   ]
  },
  {
   "cell_type": "code",
   "execution_count": 4,
   "metadata": {},
   "outputs": [],
   "source": [
    "def population(number_of_individuals, number_of_genes, upper_limit, lower_limit):\n",
    "    return [individual(number_of_genes, upper_limit, lower_limit) for x in range(number_of_individuals)]"
   ]
  },
  {
   "cell_type": "code",
   "execution_count": 5,
   "metadata": {},
   "outputs": [],
   "source": [
    "def fitness_calculation(individual):\n",
    "    fitness_value = sum(individual)\n",
    "    return fitness_value"
   ]
  },
  {
   "cell_type": "code",
   "execution_count": 6,
   "metadata": {},
   "outputs": [],
   "source": [
    "def roulette(cum_sum, change):\n",
    "    veriable = list(cum_sum.copy())\n",
    "    veriable.append(chance)\n",
    "    veriable = sorted(veriable)\n",
    "    return veriable.index(chance)"
   ]
  },
  {
   "cell_type": "code",
   "execution_count": 7,
   "metadata": {},
   "outputs": [],
   "source": [
    "def selection(generation, method='Fittest Half'):\n",
    "    generation['Normalized Fitness'] = \\\n",
    "        sorted([generation['Fitness'][x]/sum(generation['Fitness']) \n",
    "        for x in range(len(generation['Fitness']))], reverse = True)\n",
    "    generation['Cumulative Sum'] = np.array(\n",
    "        generation['Normalized Fitness']).cumsum()\n",
    "    if method == 'Roulette Wheel':\n",
    "        selected = []\n",
    "        for x in range(len(generation['Individuals'])//2):\n",
    "            selected.append(roulette(generation\n",
    "                ['Cumulative Sum'], rnd()))\n",
    "            while len(set(selected)) != len(selected):\n",
    "                selected[x] = \\\n",
    "                    (roulette(generation['Cumulative Sum'], rnd()))\n",
    "        selected = {'Individuals': \n",
    "            [generation['Individuals'][int(selected[x])]\n",
    "                for x in range(len(generation['Individuals'])//2)]\n",
    "                ,'Fitness': [generation['Fitness'][int(selected[x])]\n",
    "                for x in range(\n",
    "                    len(generation['Individuals'])//2)]}\n",
    "    elif method == 'Fittest Half':\n",
    "        selected_individuals = [generation['Individuals'][-x-1]\n",
    "            for x in range(int(len(generation['Individuals'])//2))]\n",
    "        selected_fitnesses = [generation['Fitness'][-x-1]\n",
    "            for x in range(int(len(generation['Individuals'])//2))]\n",
    "        selected = {'Individuals': selected_individuals,\n",
    "                    'Fitness': selected_fitnesses}\n",
    "    elif method == 'Random':\n",
    "        selected_individuals = \\\n",
    "            [generation['Individuals']\n",
    "                [randint(1,len(generation['Fitness']))]\n",
    "            for x in range(int(len(generation['Individuals'])//2))]\n",
    "        selected_fitnesses = [generation['Fitness'][-x-1]\n",
    "            for x in range(int(len(generation['Individuals'])//2))]\n",
    "        selected = {'Individuals': selected_individuals,\n",
    "                    'Fitness': selected_fitnesses}\n",
    "    return selected"
   ]
  },
  {
   "cell_type": "code",
   "execution_count": 8,
   "metadata": {},
   "outputs": [],
   "source": [
    "def pairing(elit, selected, method = 'Fittest'):\n",
    "    individuals = [elit['Individuals']]+selected['Individuals']\n",
    "    fitness = [elit['Fitness']]+selected['Fitness']\n",
    "    if method == 'Fittest':\n",
    "        parents = [[individuals[x],individuals[x+1]] \n",
    "                   for x in range(len(individuals)//2)]\n",
    "    if method == 'Random':\n",
    "        parents = []\n",
    "        for x in range(len(individuals)//2):\n",
    "            parents.append(\n",
    "                [individuals[randint(0,(len(individuals)-1))],\n",
    "                 individuals[randint(0,(len(individuals)-1))]])\n",
    "            while parents[x][0] == parents[x][1]:\n",
    "                parents[x][1] = individuals[\n",
    "                    randint(0,(len(individuals)-1))]\n",
    "    if method == 'Weighted Random':\n",
    "        normalized_fitness = sorted(\n",
    "            [fitness[x] /sum(fitness) \n",
    "             for x in range(len(individuals)//2)], reverse = True)\n",
    "        cummulitive_sum = np.array(normalized_fitness).cumsum()\n",
    "        parents = []\n",
    "        for x in range(len(individuals)//2):\n",
    "            parents.append(\n",
    "                [individuals[roulette(cummulitive_sum,rnd())],\n",
    "                 individuals[roulette(cummulitive_sum,rnd())]])\n",
    "            while parents[x][0] == parents[x][1]:\n",
    "                parents[x][1] = individuals[\n",
    "                    roulette(cummulitive_sum,rnd())]\n",
    "    return parents"
   ]
  },
  {
   "cell_type": "code",
   "execution_count": 9,
   "metadata": {},
   "outputs": [],
   "source": [
    "def mating(parents, method='Single Point'):\n",
    "    if method == 'Single Point':\n",
    "        pivot_point = randint(1, len(parents[0]))\n",
    "        offsprings = [parents[0] \\\n",
    "            [0:pivot_point]+parents[1][pivot_point:]]\n",
    "        offsprings.append(parents[1]\n",
    "            [0:pivot_point]+parents[0][pivot_point:])\n",
    "    if method == 'Two Points':\n",
    "        pivot_point_1 = randint(1, len(parents[0]-1))\n",
    "        pivot_point_2 = randint(1, len(parents[0]))\n",
    "        while pivot_point_2<pivot_point_1:\n",
    "            pivot_point_2 = randint(1, len(parents[0]))\n",
    "        offsprings = [parents[0][0:pivot_point_1]+\n",
    "            parents[1][pivot_point_1:pivot_point_2]+\n",
    "            [parents[0][pivot_point_2:]]]\n",
    "        offsprings.append([parents[1][0:pivot_point_1]+\n",
    "            parents[0][pivot_point_1:pivot_point_2]+\n",
    "            [parents[1][pivot_point_2:]]])\n",
    "    return offsprings"
   ]
  },
  {
   "cell_type": "code",
   "execution_count": 10,
   "metadata": {},
   "outputs": [],
   "source": [
    "def mutation(individual, upper_limit, lower_limit, muatation_rate=2, \n",
    "    method='Reset', standard_deviation = 0.001):\n",
    "    gene = [randint(0, 7)]\n",
    "    for x in range(muatation_rate-1):\n",
    "        gene.append(randint(0, 7))\n",
    "        while len(set(gene)) < len(gene):\n",
    "            gene[x] = randint(0, 7)\n",
    "    mutated_individual = individual.copy()\n",
    "    if method == 'Gauss':\n",
    "        for x in range(muatation_rate):\n",
    "            mutated_individual[x] = \\\n",
    "            round(individual[x]+gauss(0, standard_deviation), 1)\n",
    "    if method == 'Reset':\n",
    "        for x in range(muatation_rate):\n",
    "            mutated_individual[x] = round(rnd()* \\\n",
    "                (upper_limit-lower_limit)+lower_limit,1)\n",
    "    return mutated_individual"
   ]
  },
  {
   "cell_type": "code",
   "execution_count": 11,
   "metadata": {},
   "outputs": [],
   "source": [
    "def next_generation(gen, upper_limit, lower_limit):\n",
    "    elit = {}\n",
    "    next_gen = {}\n",
    "    elit['Individuals'] = gen['Individuals'].pop(-1)\n",
    "    elit['Fitness'] = gen['Fitness'].pop(-1)\n",
    "    selected = selection(gen)\n",
    "    parents = pairing(elit, selected)\n",
    "    offsprings = [[[mating(parents[x])\n",
    "                    for x in range(len(parents))]\n",
    "                    [y][z] for z in range(2)] \n",
    "                    for y in range(len(parents))]\n",
    "    offsprings1 = [offsprings[x][0]\n",
    "                   for x in range(len(parents))]\n",
    "    offsprings2 = [offsprings[x][1]\n",
    "                   for x in range(len(parents))]\n",
    "    unmutated = selected['Individuals']+offsprings1+offsprings2\n",
    "    mutated = [mutation(unmutated[x], upper_limit, lower_limit) \n",
    "        for x in range(len(gen['Individuals']))]\n",
    "    unsorted_individuals = mutated + [elit['Individuals']]\n",
    "    unsorted_next_gen = \\\n",
    "        [fitness_calculation(mutated[x]) \n",
    "         for x in range(len(mutated))]\n",
    "    unsorted_fitness = [unsorted_next_gen[x]\n",
    "        for x in range(len(gen['Fitness']))] + [elit['Fitness']]\n",
    "    sorted_next_gen = \\\n",
    "        sorted([[unsorted_individuals[x], unsorted_fitness[x]]\n",
    "            for x in range(len(unsorted_individuals))], \n",
    "                key=lambda x: x[1])\n",
    "    next_gen['Individuals'] = [sorted_next_gen[x][0]\n",
    "        for x in range(len(sorted_next_gen))]\n",
    "    next_gen['Fitness'] = [sorted_next_gen[x][1]\n",
    "        for x in range(len(sorted_next_gen))]\n",
    "    gen['Individuals'].append(elit['Individuals'])\n",
    "    gen['Fitness'].append(elit['Fitness'])\n",
    "    return next_gen"
   ]
  },
  {
   "cell_type": "code",
   "execution_count": 12,
   "metadata": {},
   "outputs": [],
   "source": [
    "def fitness_similarity_chech(max_fitness, number_of_similarity):\n",
    "    result = False\n",
    "    similarity = 0\n",
    "    for n in range(len(max_fitness)-1):\n",
    "        if max_fitness[n] == max_fitness[n+1]:\n",
    "            similarity += 1\n",
    "        else:\n",
    "            similarity = 0\n",
    "    if similarity == number_of_similarity-1:\n",
    "        result = True\n",
    "    return result"
   ]
  },
  {
   "cell_type": "code",
   "execution_count": 13,
   "metadata": {},
   "outputs": [],
   "source": [
    "# Generations and fitness values will be written to this file\n",
    "Result_file = 'GA_Results.txt'\n",
    "# Creating the First Generation\n",
    "def first_generation(pop):\n",
    "    fitness = [fitness_calculation(pop[x]) \n",
    "        for x in range(len(pop))]\n",
    "    sorted_fitness = sorted([[pop[x], fitness[x]]\n",
    "        for x in range(len(pop))], key=lambda x: x[1])\n",
    "    population = [sorted_fitness[x][0] \n",
    "        for x in range(len(sorted_fitness))]\n",
    "    fitness = [sorted_fitness[x][1] \n",
    "        for x in range(len(sorted_fitness))]\n",
    "    return {'Individuals': population, 'Fitness': sorted(fitness)}\n",
    "pop = population(20,8,1,0)\n",
    "gen = []\n",
    "gen.append(first_generation(pop))\n",
    "fitness_avg = np.array([sum(gen[0]['Fitness'])/\n",
    "                        len(gen[0]['Fitness'])])\n",
    "fitness_max = np.array([max(gen[0]['Fitness'])])\n",
    "res = open(Result_file, 'a')\n",
    "res.write('\\n'+str(gen)+'\\n')\n",
    "res.close()\n",
    "finish = False\n",
    "while finish == False:\n",
    "    if max(fitness_max) > 6:\n",
    "        break\n",
    "    if max(fitness_avg) > 5:\n",
    "        break\n",
    "    if fitness_similarity_chech(fitness_max, 50) == True:\n",
    "        break\n",
    "    gen.append(next_generation(gen[-1],1,0))\n",
    "    fitness_avg = np.append(fitness_avg, sum(\n",
    "        gen[-1]['Fitness'])/len(gen[-1]['Fitness']))\n",
    "    fitness_max = np.append(fitness_max, max(gen[-1]['Fitness']))\n",
    "    res = open(Result_file, 'a')\n",
    "    res.write('\\n'+str(gen[-1])+'\\n')\n",
    "    res.close()"
   ]
  },
  {
   "cell_type": "code",
   "execution_count": null,
   "metadata": {},
   "outputs": [],
   "source": []
  },
  {
   "cell_type": "code",
   "execution_count": null,
   "metadata": {},
   "outputs": [],
   "source": []
  }
 ],
 "metadata": {
  "kernelspec": {
   "display_name": "Python 3",
   "language": "python",
   "name": "python3"
  },
  "language_info": {
   "codemirror_mode": {
    "name": "ipython",
    "version": 3
   },
   "file_extension": ".py",
   "mimetype": "text/x-python",
   "name": "python",
   "nbconvert_exporter": "python",
   "pygments_lexer": "ipython3",
   "version": "3.6.9"
  }
 },
 "nbformat": 4,
 "nbformat_minor": 2
}
