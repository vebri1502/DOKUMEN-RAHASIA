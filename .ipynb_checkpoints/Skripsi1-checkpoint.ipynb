{
 "cells": [
  {
   "cell_type": "code",
   "execution_count": 1,
   "metadata": {},
   "outputs": [],
   "source": [
    "import random\n",
    "import networkx as nx\n",
    "import numpy as np \n",
    "import pandas as pd \n",
    "\n",
    "# for basic visualizations\n",
    "import matplotlib.pyplot as plt\n",
    "import seaborn as sns"
   ]
  },
  {
   "cell_type": "code",
   "execution_count": 2,
   "metadata": {},
   "outputs": [],
   "source": [
    "filename = 'input2.txt'\n",
    "edgelist = open(filename, 'r')"
   ]
  },
  {
   "cell_type": "code",
   "execution_count": 3,
   "metadata": {},
   "outputs": [
    {
     "data": {
      "text/plain": [
       "[['1', '2', '4'],\n",
       " ['1', '5', '10'],\n",
       " ['1', '3', '3'],\n",
       " ['1', '8', '11'],\n",
       " ['1', '4', '6'],\n",
       " ['2', '6', '6'],\n",
       " ['2', '5', '6'],\n",
       " ['4', '8', '5'],\n",
       " ['4', '7', '7'],\n",
       " ['3', '5', '11'],\n",
       " ['3', '6', '9'],\n",
       " ['3', '7', '8'],\n",
       " ['3', '8', '12']]"
      ]
     },
     "execution_count": 3,
     "metadata": {},
     "output_type": "execute_result"
    }
   ],
   "source": [
    "yourResult = [line.strip().split(' ') for line in edgelist.readlines()]\n",
    "yourResult"
   ]
  },
  {
   "cell_type": "code",
   "execution_count": 4,
   "metadata": {},
   "outputs": [
    {
     "data": {
      "text/plain": [
       "[[1, 2, 4],\n",
       " [1, 5, 10],\n",
       " [1, 3, 3],\n",
       " [1, 8, 11],\n",
       " [1, 4, 6],\n",
       " [2, 6, 6],\n",
       " [2, 5, 6],\n",
       " [4, 8, 5],\n",
       " [4, 7, 7],\n",
       " [3, 5, 11],\n",
       " [3, 6, 9],\n",
       " [3, 7, 8],\n",
       " [3, 8, 12]]"
      ]
     },
     "execution_count": 4,
     "metadata": {},
     "output_type": "execute_result"
    }
   ],
   "source": [
    "edgelist = [[int(x) for x in lst] for lst in yourResult]\n",
    "edgelist"
   ]
  },
  {
   "cell_type": "code",
   "execution_count": 5,
   "metadata": {},
   "outputs": [],
   "source": [
    "def make_graph(edgelist):\n",
    "    graph = {}\n",
    "    for e1, e2, weight in edgelist:\n",
    "        graph.setdefault(e1, {}).setdefault(e2, weight)\n",
    "        graph.setdefault(e2, {}).setdefault(e1, weight)\n",
    "    return graph"
   ]
  },
  {
   "cell_type": "code",
   "execution_count": 6,
   "metadata": {},
   "outputs": [
    {
     "data": {
      "text/plain": [
       "{1: {2: 4, 5: 10, 3: 3, 8: 11, 4: 6},\n",
       " 2: {1: 4, 6: 6, 5: 6},\n",
       " 5: {1: 10, 2: 6, 3: 11},\n",
       " 3: {1: 3, 5: 11, 6: 9, 7: 8, 8: 12},\n",
       " 8: {1: 11, 4: 5, 3: 12},\n",
       " 4: {1: 6, 8: 5, 7: 7},\n",
       " 6: {2: 6, 3: 9},\n",
       " 7: {4: 7, 3: 8}}"
      ]
     },
     "execution_count": 6,
     "metadata": {},
     "output_type": "execute_result"
    }
   ],
   "source": [
    "graph = make_graph(edgelist)\n",
    "graph"
   ]
  },
  {
   "cell_type": "markdown",
   "metadata": {},
   "source": [
    "## Inisialisasi Populasi Secara Random"
   ]
  },
  {
   "cell_type": "markdown",
   "metadata": {},
   "source": [
    "1. Pilih start dari node yang mana\n",
    "2. Dari node tersebut, pilih pasangan node (key di dalam key) lainnya secara random\n",
    "3. Setelah didapat node secara random, pasangkan dengan key dictnya\n",
    "4. Simpan hasilnya ke dalam list"
   ]
  },
  {
   "cell_type": "code",
   "execution_count": 7,
   "metadata": {},
   "outputs": [],
   "source": [
    "def make_individual(start, graph):\n",
    "#Initialize a multicast tree\n",
    "    start = start\n",
    "    items = random.choice(list(graph[start].items()))\n",
    "    end = items[0]\n",
    "    weight = items[1]\n",
    "    mst = []\n",
    "    mst.append([start, end, weight])\n",
    "    circuit_start = []\n",
    "    circuit_end = []\n",
    "    circuit_end.append(end)\n",
    "\n",
    "    closed = []\n",
    "    closed.append([start, end])\n",
    "    closed.append([end, start])\n",
    "    circuit_start.append(start)\n",
    "    i = 1\n",
    "    #Generate random path which from the tree T to the destination node d as RunPath(u, d)\n",
    "    while (i < len(graph) - 1):\n",
    "        start = items[0]\n",
    "        items = random.choice(list(graph[start].items()))\n",
    "        end = items[0]\n",
    "        \n",
    "        weight = items[1]\n",
    "        if [start, end] in closed:\n",
    "            continue\n",
    "        if end in circuit_start:\n",
    "            continue \n",
    "        if end in circuit_end:\n",
    "            continue\n",
    "            \n",
    "        mst.append([start, end, weight])\n",
    "        circuit_start.append(end)\n",
    "        circuit_end.append(end)\n",
    "        closed.append([start, end])\n",
    "        closed.append([end, start])\n",
    "        i = i+1\n",
    "\n",
    "    assert len(mst) == len(graph) - 1\n",
    "    return mst"
   ]
  },
  {
   "cell_type": "code",
   "execution_count": 8,
   "metadata": {},
   "outputs": [],
   "source": [
    "def counting_weight(mst):\n",
    "    bobot = 0\n",
    "    for i in range(len(mst)):\n",
    "        bobot = bobot+mst[i][2]\n",
    "    return bobot"
   ]
  },
  {
   "cell_type": "code",
   "execution_count": 9,
   "metadata": {},
   "outputs": [],
   "source": [
    "fixed_position = {}\n",
    "for e1, e2, weight in edgelist:\n",
    "    random_position1 = (random.randint(0, 100), random.randint(0, 100))\n",
    "    random_position2 = (random.randint(0, 100), random.randint(0, 100))\n",
    "    fixed_position.setdefault(e1, random_position1)\n",
    "    fixed_position.setdefault(e2, random_position2)\n",
    "fixed_position_nodes = fixed_position.keys()"
   ]
  },
  {
   "cell_type": "code",
   "execution_count": 10,
   "metadata": {},
   "outputs": [],
   "source": [
    "def make_network_viz(graph):\n",
    "    g = nx.Graph()\n",
    "    for edge in graph:\n",
    "        g.add_edge(edge[0],edge[1], weight = edge[2])\n",
    "\n",
    "    import warnings\n",
    "    warnings.filterwarnings('ignore')\n",
    "\n",
    "    plt.rcParams['figure.figsize'] = (11, 6)\n",
    "    plt.style.use('fivethirtyeight')\n",
    "\n",
    "    pos = nx.spring_layout(g, pos = fixed_position, fixed = fixed_position_nodes, weight = 'weight')\n",
    "\n",
    "    # drawing nodes\n",
    "    nx.draw_networkx(g, pos, arrows = True, node_color='green', node_size=350)\n",
    "    edge_labels=dict([((u,v,),d['weight']) for u,v,d in g.edges(data=True)])\n",
    "    nx.draw_networkx_edge_labels(g,pos,edge_labels=edge_labels, font_color='green', font_size=10)\n",
    "    #plt.title('Undirected Graphs', fontsize = 20)\n",
    "    plt.axis('on')\n",
    "    plt.show()"
   ]
  },
  {
   "cell_type": "code",
   "execution_count": 11,
   "metadata": {},
   "outputs": [
    {
     "data": {
      "image/png": "[encoded data removed]",
      "text/plain": [
       "<Figure size 792x432 with 1 Axes>"
      ]
     },
     "metadata": {},
     "output_type": "display_data"
    }
   ],
   "source": [
    "graph_viz = make_network_viz(edgelist)"
   ]
  },
  {
   "cell_type": "code",
   "execution_count": 12,
   "metadata": {},
   "outputs": [
    {
     "data": {
      "text/plain": [
       "[[1, 4, 6],\n",
       " [1, 8, 11],\n",
       " [8, 3, 12],\n",
       " [3, 7, 8],\n",
       " [3, 5, 11],\n",
       " [5, 2, 6],\n",
       " [2, 6, 6]]"
      ]
     },
     "execution_count": 12,
     "metadata": {},
     "output_type": "execute_result"
    }
   ],
   "source": [
    "mst = make_individual(1, graph)\n",
    "mst"
   ]
  },
  {
   "cell_type": "code",
   "execution_count": 13,
   "metadata": {},
   "outputs": [
    {
     "data": {
      "image/png": "[encoded data removed]",
      "text/plain": [
       "<Figure size 792x432 with 1 Axes>"
      ]
     },
     "metadata": {},
     "output_type": "display_data"
    }
   ],
   "source": [
    "individual = make_network_viz(mst)"
   ]
  },
  {
   "cell_type": "code",
   "execution_count": 14,
   "metadata": {},
   "outputs": [
    {
     "data": {
      "text/plain": [
       "{1: {4: 6, 8: 11},\n",
       " 4: {1: 6},\n",
       " 8: {1: 11, 3: 12},\n",
       " 3: {8: 12, 7: 8, 5: 11},\n",
       " 7: {3: 8},\n",
       " 5: {3: 11, 2: 6},\n",
       " 2: {5: 6, 6: 6},\n",
       " 6: {2: 6}}"
      ]
     },
     "execution_count": 14,
     "metadata": {},
     "output_type": "execute_result"
    }
   ],
   "source": [
    "make_graph(mst)"
   ]
  },
  {
   "cell_type": "markdown",
   "metadata": {},
   "source": [
    "## Create Population"
   ]
  },
  {
   "cell_type": "code",
   "execution_count": 15,
   "metadata": {},
   "outputs": [],
   "source": [
    "def create_population(popSize, startNode):\n",
    "    popList = []\n",
    "    for i in range(popSize):\n",
    "        popList.append(make_individual(startNode, graph))\n",
    "    return popList"
   ]
  },
  {
   "cell_type": "code",
   "execution_count": 16,
   "metadata": {},
   "outputs": [],
   "source": [
    "pop_size = 100\n",
    "start_node = 1"
   ]
  },
  {
   "cell_type": "code",
   "execution_count": 17,
   "metadata": {},
   "outputs": [
    {
     "data": {
      "text/plain": [
       "[[1, 5, 10], [5, 3, 11], [3, 6, 9], [6, 2, 6], [1, 4, 6], [4, 8, 5], [3, 7, 8]]"
      ]
     },
     "execution_count": 17,
     "metadata": {},
     "output_type": "execute_result"
    }
   ],
   "source": [
    "popList = create_population(pop_size, start_node)\n",
    "random.choice(popList)"
   ]
  },
  {
   "cell_type": "markdown",
   "metadata": {},
   "source": [
    "## Selection"
   ]
  },
  {
   "cell_type": "code",
   "execution_count": 18,
   "metadata": {},
   "outputs": [],
   "source": [
    "panjang_target = 60"
   ]
  },
  {
   "cell_type": "code",
   "execution_count": 19,
   "metadata": {},
   "outputs": [],
   "source": [
    "def count_weight(popList):\n",
    "    total_weight= []\n",
    "\n",
    "    for i in popList:\n",
    "        total_weight.append(counting_weight(i))\n",
    "\n",
    "    return total_weight"
   ]
  },
  {
   "cell_type": "code",
   "execution_count": 20,
   "metadata": {},
   "outputs": [],
   "source": [
    "weight = count_weight(popList)"
   ]
  },
  {
   "cell_type": "code",
   "execution_count": 21,
   "metadata": {},
   "outputs": [],
   "source": [
    "def count_fitness(popList):\n",
    "    objective= []\n",
    "\n",
    "    for i in popList:\n",
    "        objective.append(counting_weight(i))\n",
    "        \n",
    "    total_fitness = float(sum(objective))\n",
    "    rel_fitness = [1/f for f in objective]  # <- baru\n",
    "#     rel_fitness = [f/total_fitness for f in total_weight] <- lama\n",
    "    return rel_fitness"
   ]
  },
  {
   "cell_type": "code",
   "execution_count": 41,
   "metadata": {},
   "outputs": [],
   "source": [
    "def roulette_selection(popList):\n",
    "    fitnesses = count_fitness(popList)\n",
    "    selectionResults = []\n",
    "    total_fitness = float(sum(fitnesses))\n",
    "    rel_fitness = [f/total_fitness for f in fitnesses]\n",
    "    probs = [sum(rel_fitness[:i+1]) for i in range(len(rel_fitness))]\n",
    "    new_population = []\n",
    "    for n in range(pop_size):\n",
    "        r = random.random()\n",
    "        for (i, individual) in enumerate(popList):\n",
    "            if r <= probs[i]:\n",
    "                new_population.append(individual)\n",
    "                break\n",
    "    return new_population"
   ]
  },
  {
   "cell_type": "code",
   "execution_count": 42,
   "metadata": {},
   "outputs": [],
   "source": [
    "def PartialyMatched_Crossover(parent1, parent2):\n",
    "    ind1 = parent1\n",
    "    ind2 = parent2\n",
    "    size = min(len(ind1), len(ind2))\n",
    "    p1, p2 = [0] * size, [0] * size\n",
    "\n",
    "    # Initialize the position of each indices in the individuals\n",
    "    for i in range(size):\n",
    "        p1[i] = i\n",
    "        p2[i] = i\n",
    "    # Choose crossover points\n",
    "    cxpoint1 = random.randint(0, size)\n",
    "    cxpoint2 = random.randint(0, size - 1)\n",
    "    if cxpoint2 >= cxpoint1:\n",
    "        cxpoint2 += 1\n",
    "    else:  # Swap the two cx points\n",
    "        cxpoint1, cxpoint2 = cxpoint2, cxpoint1\n",
    "\n",
    "    # Apply crossover between cx points\n",
    "    for i in range(cxpoint1, cxpoint2):\n",
    "        # Keep track of the selected values\n",
    "        temp1 = ind1[i]\n",
    "        temp2 = ind2[i]\n",
    "        # Swap the matched value\n",
    "        ind1[i], ind1[p1] = temp2, temp1\n",
    "        ind2[i], ind2[p2] = temp1, temp2\n",
    "        # Position bookkeeping\n",
    "        p1[temp1], p1[temp2] = p1[temp2], p1[temp1]\n",
    "        p2[temp1], p2[temp2] = p2[temp2], p2[temp1]\n",
    "\n",
    "    return ind1, ind2"
   ]
  },
  {
   "cell_type": "code",
   "execution_count": 43,
   "metadata": {},
   "outputs": [],
   "source": [
    "def Ordered_Crossover(parent1, parent2):\n",
    "    ind1 = parent1\n",
    "    ind2 = parent2\n",
    "    size = min(len(ind1), len(ind2))\n",
    "    a, b = random.sample(range(size), 2)\n",
    "    if a > b:\n",
    "        a, b = b, a\n",
    "\n",
    "    holes1, holes2 = [True] * size, [True] * size\n",
    "    for i in range(size):\n",
    "        if i < a or i > b:\n",
    "            holes1[i] = False\n",
    "            holes2[i] = False\n",
    "\n",
    "    # We must keep the original values somewhere before scrambling everything\n",
    "    temp1, temp2 = ind1, ind2\n",
    "    k1, k2 = b + 1, b + 1\n",
    "    for i in range(size):\n",
    "        if not holes1[(i + b + 1) % size]:\n",
    "            ind1[k1 % size] = temp1[(i + b + 1) % size]\n",
    "            k1 += 1\n",
    "\n",
    "        if not holes2[(i + b + 1) % size]:\n",
    "            ind2[k2 % size] = temp2[(i + b + 1) % size]\n",
    "            k2 += 1\n",
    "\n",
    "    # Swap the content between a and b (included)\n",
    "    for i in range(a, b + 1):\n",
    "        ind1[i], ind2[i] = ind2[i], ind1[i]\n",
    "\n",
    "    return ind1, ind2"
   ]
  },
  {
   "cell_type": "code",
   "execution_count": 44,
   "metadata": {},
   "outputs": [],
   "source": [
    "def elitis_selection(popList):\n",
    "    fitnesses = count_fitness(popList)\n",
    "    pop = []\n",
    "    new_population = []\n",
    "    for i in range(len(fitnesses)):\n",
    "        pop.append([fitnesses[i], popList[i]])\n",
    "        \n",
    "    ranked_population = sorted(pop, reverse = True)\n",
    "    \n",
    "    for i in range (len(ranked_population)):\n",
    "        new_population.append(ranked_population[i][1])\n",
    "\n",
    "    return new_population"
   ]
  },
  {
   "cell_type": "code",
   "execution_count": 45,
   "metadata": {},
   "outputs": [],
   "source": [
    "def crossover(probabilitas_OX, selected_pop):\n",
    "    popRand = []\n",
    "    acak = random.random()\n",
    "    for i in range(len(selected_pop)):\n",
    "        acak = random.random()\n",
    "        popRand.append([acak, selected_pop[i]])\n",
    "\n",
    "    matingPool = []\n",
    "    for i in range (len(popRand)):\n",
    "        if popRand[i][0] < probabilitas_OX:\n",
    "            matingPool.append(popRand[i][1])\n",
    "        else:\n",
    "            continue\n",
    "\n",
    "    sum_rand = random.randint(len(mst)*30/100, len(mst)*80/100)\n",
    "    point = []\n",
    "    for i in range(len(mst)):\n",
    "        point.append(i)\n",
    "\n",
    "    x=0\n",
    "    while x < len(matingPool):\n",
    "        point = random.sample(point, sum_rand)\n",
    "        temp1 = []\n",
    "        temp2 = []\n",
    "        circuit_start1 = []\n",
    "        circuit_start2 = []\n",
    "        swap = []\n",
    "        closed1 = []\n",
    "        closed2 = []\n",
    "\n",
    "        circuit_start1.append(start_node)\n",
    "        temp1.append(start_node)\n",
    "        items1 = random.choice(list(graph[start_node].items()))\n",
    "        circuit_start2.append(start_node)\n",
    "        temp2.append(start_node)\n",
    "        items2 = random.choice(list(graph[start_node].items()))\n",
    "\n",
    "        i=1\n",
    "        for i in range(len(graph)-1):\n",
    "            if i in point:\n",
    "                swap.append(matingPool[x][i])\n",
    "                swap.append(matingPool[x+1][i])\n",
    "                choose = random.choice(swap)\n",
    "                if choose[1] in temp1:\n",
    "                    j = 1\n",
    "                    while j < len(matingPool[x][i]):\n",
    "                        start1 = items1[0]\n",
    "                        items1 = random.choice(list(graph[start1].items()))\n",
    "                        end1 = items1[0]\n",
    "                        weight1 = items1[1]\n",
    "                        if [start1, end1] in closed1:\n",
    "                            continue\n",
    "                        if [end1, start1] in closed1:\n",
    "                            continue\n",
    "                        if start1 not in temp1:\n",
    "                            continue\n",
    "                        if end1 in temp1:\n",
    "                            continue\n",
    "                        matingPool[x][i] = [start1, end1, weight1]\n",
    "                        j += 1\n",
    "                    temp1.append(end1)\n",
    "                    circuit_start1.append(start1)\n",
    "                    closed1.append([start1, end1])\n",
    "                    closed1.append([end1, start1])\n",
    "                else:        \n",
    "                    matingPool[x][i] = choose\n",
    "                    closed1.append([matingPool[x][i][0], matingPool[x][i][1]])\n",
    "                    closed1.append([matingPool[x][i][1], matingPool[x][i][0]])\n",
    "                    start1 = matingPool[x][i][1]\n",
    "                    temp1.append(matingPool[x][i][1])\n",
    "                    circuit_start1.append(matingPool[x][i][0])\n",
    "                swap.remove(choose)\n",
    "                if swap[0][1] in temp2:\n",
    "                    j = 1\n",
    "                    matingPool[x+1][i] = swap[0]\n",
    "                    while j < len(matingPool[x+1][i]):\n",
    "                        start2 = items2[0]\n",
    "                        items2 = random.choice(list(graph[start2].items()))\n",
    "                        end2 = items2[0]\n",
    "                        weight2 = items2[1]\n",
    "                        if [start2, end2] in closed2:\n",
    "                            continue\n",
    "                        if [end2, start2] in closed2:\n",
    "                            continue\n",
    "                        if start2 not in temp2:\n",
    "                            continue\n",
    "                        if end2 in temp2:\n",
    "                            continue\n",
    "                        matingPool[x+1][i] = [start2, end2, weight2]\n",
    "                        j += 1\n",
    "                    circuit_start2.append(start2)\n",
    "                    temp2.append(end2)\n",
    "                    closed2.append([start2, end2])\n",
    "                    closed2.append([end2, start2])\n",
    "                else:\n",
    "                    matingPool[x+1][i] = swap[0]\n",
    "                    closed2.append([matingPool[x+1][i][0], matingPool[x+1][i][1]])\n",
    "                    closed2.append([matingPool[x+1][i][1], matingPool[x+1][i][0]])\n",
    "                    start2 = matingPool[x+1][i][1]\n",
    "                    temp2.append(matingPool[x+1][i][1])\n",
    "                    circuit_start2.append(matingPool[x+1][i][0])\n",
    "                swap.clear()\n",
    "            else:\n",
    "                j = 1\n",
    "                while j < len(graph):\n",
    "                    start1 = items1[0]\n",
    "                    items1 = random.choice(list(graph[start1].items()))\n",
    "                    end1 = items1[0]\n",
    "                    weight1 = items1[1]\n",
    "                    if [start1, end1] in closed1:\n",
    "                        continue\n",
    "                    if [end1, start1] in closed1:\n",
    "                        continue\n",
    "                    if start1 not in temp1:\n",
    "                        continue\n",
    "                    if end1 in temp1:\n",
    "                        continue\n",
    "                    matingPool[x][i] = [start1, end1, weight1]\n",
    "                    j += 1\n",
    "                temp1.append(matingPool[x][i][1])\n",
    "                circuit_start1.append(start1)\n",
    "                closed1.append([start1, end1])\n",
    "                closed1.append([end1, start1])\n",
    "\n",
    "                j = 1\n",
    "                while j < len(graph):\n",
    "                    start2 = items2[0]\n",
    "                    items2 = random.choice(list(graph[start2].items()))\n",
    "                    end2 = items2[0]\n",
    "                    weight2 = items2[1]\n",
    "                    if [start2, end2] in closed2:\n",
    "                        continue\n",
    "                    if [end2, start2] in closed2:\n",
    "                        continue\n",
    "                    if start2 not in temp2:\n",
    "                        continue\n",
    "                    if end2 in temp2:\n",
    "                        continue\n",
    "                    matingPool[x+1][i] = [start2, end2, weight2]\n",
    "                    j += 1\n",
    "                temp2.append(matingPool[x+1][i][1])\n",
    "                circuit_start2.append(start2)\n",
    "                closed2.append([start2, end2])\n",
    "                closed2.append([end2, start2])\n",
    "        x += 2\n",
    "        if x == len(matingPool) - 1:\n",
    "            break\n",
    "    return matingPool"
   ]
  },
  {
   "cell_type": "code",
   "execution_count": 46,
   "metadata": {},
   "outputs": [],
   "source": [
    "def mutation1(Mutation_probability, popList):\n",
    "    popRand = []\n",
    "    for i in popList:\n",
    "        acak = random.random()\n",
    "        if acak < Mutation_probability:\n",
    "            temp = []\n",
    "            closed = []\n",
    "            end = []\n",
    "            end.append(start_node)\n",
    "            for j in i:\n",
    "                temp.append(j)\n",
    "                closed.append([j[0], j[1]])\n",
    "                closed.append([j[1], j[0]])\n",
    "                end.append(j[1])\n",
    "\n",
    "            rand = random.randint(1, len(i)-1)\n",
    "            end.remove(i[rand][1])\n",
    "\n",
    "            j = 0\n",
    "            while j < len(i):\n",
    "                if j == rand:\n",
    "                    nodes = random.choice(edgelist)\n",
    "                    while nodes[1] in end:\n",
    "                        nodes = random.choice(edgelist)\n",
    "                        if [nodes[0], nodes[1]] in closed:\n",
    "                            continue\n",
    "                        if [nodes[1], nodes[0]] in closed:\n",
    "                            continue\n",
    "                        if nodes[1] in end:\n",
    "                            continue\n",
    "                        i = nodes\n",
    "                j+=1\n",
    "        else:\n",
    "            continue\n",
    "    return popList"
   ]
  },
  {
   "cell_type": "code",
   "execution_count": 47,
   "metadata": {},
   "outputs": [],
   "source": [
    "def mutation(Mutation_probability, selected_pop):\n",
    "    popRand = []\n",
    "    acak = random.random()\n",
    "    for i in range(len(selected_pop)):\n",
    "        acak = random.random()\n",
    "        popRand.append([acak, selected_pop[i]])\n",
    "\n",
    "    mutationPool = []\n",
    "    for i in range (len(popRand)):\n",
    "        if popRand[i][0] < Mutation_probability:\n",
    "            mutationPool.append(popRand[i][1])\n",
    "        else:\n",
    "            continue\n",
    "    x = 0\n",
    "    while x < len(mutationPool)-1:\n",
    "        temp = []\n",
    "        closed = []\n",
    "        end = []\n",
    "        end.append(start_node)\n",
    "        for i in mutationPool[x]:\n",
    "            temp.append(i)\n",
    "            closed.append([i[0], i[1]])\n",
    "            closed.append([i[1], i[0]])\n",
    "            end.append(i[1])\n",
    "\n",
    "        rand = random.randint(1, len(mutationPool[x])-1)\n",
    "        end.remove(mutationPool[x][rand][1])\n",
    "\n",
    "        i = 0\n",
    "        while i < len(mutationPool[x]):\n",
    "            if i == rand:\n",
    "                j=0\n",
    "                nodes = random.choice(edgelist)\n",
    "                while nodes[1] in end:\n",
    "                    nodes = random.choice(edgelist)\n",
    "                    if [nodes[0], nodes[1]] in closed:\n",
    "                        continue\n",
    "                    if [nodes[1], nodes[0]] in closed:\n",
    "                        continue\n",
    "                    if nodes[1] in end:\n",
    "                        continue\n",
    "                    mutationPool[x][i] = nodes\n",
    "                    j+=1\n",
    "            i+=1\n",
    "        x += 1\n",
    "    return mutationPool"
   ]
  },
  {
   "cell_type": "code",
   "execution_count": 48,
   "metadata": {},
   "outputs": [],
   "source": [
    "def regeneration_1(matingPool, selected_pop):\n",
    "    selected_pop = selected_pop\n",
    "    for i in matingPool:\n",
    "        selected_pop.append(i)\n",
    "    \n",
    "    return selected_pop"
   ]
  },
  {
   "cell_type": "code",
   "execution_count": 49,
   "metadata": {},
   "outputs": [],
   "source": [
    "def regeneration(popList, matingPool):\n",
    "    fitnesses = count_weight(popList)\n",
    "    population = []\n",
    "    new_population = []\n",
    "    for i in range(len(fitnesses)):\n",
    "        population.append([fitnesses[i], popList[i]])\n",
    "\n",
    "    ranked_population = sorted(population, reverse = False)\n",
    "\n",
    "    for i in range(len(ranked_population)):\n",
    "        new_population.append(ranked_population[i][1])\n",
    "\n",
    "    for i in range(len(matingPool)):\n",
    "        new_population.pop()\n",
    "\n",
    "    for i in range(len(matingPool)):\n",
    "        new_population.append(matingPool[i])\n",
    "    \n",
    "    random.shuffle(new_population)\n",
    "        \n",
    "    return new_population"
   ]
  },
  {
   "cell_type": "code",
   "execution_count": 50,
   "metadata": {},
   "outputs": [],
   "source": [
    "def geneticAlgorithm(pop_size, generation, probabilitas_OX, Mutation_probability):\n",
    "    prog = []\n",
    "    popList = create_population(pop_size, start_node)\n",
    "    print('bobot untuk generasi pertama: ', counting_weight(random.choice(popList)))\n",
    "    for i in range(generation):\n",
    "        selected_pop = roulette_selection(popList)\n",
    "        matingPool = crossover(probabilitas_OX, selected_pop)\n",
    "        popList = regeneration(popList, matingPool)\n",
    "        popList = mutation1(Mutation_probability, popList)\n",
    "        popList = elitis_selection(popList)\n",
    "        best = counting_weight(popList[0])\n",
    "        prog.append(best)\n",
    "        print('Generasi ke-', i+1, 'bobot: ', counting_weight(popList[0]))\n",
    "        \n",
    "    popList = elitis_selection(popList)\n",
    "    print('Hasil optimasi: ', counting_weight(popList[0]))\n",
    "    plt.plot(prog, linewidth = 1)\n",
    "    plt.ylabel('Weight')\n",
    "    plt.xlabel('Generation')\n",
    "    plt.show()"
   ]
  },
  {
   "cell_type": "code",
   "execution_count": 51,
   "metadata": {},
   "outputs": [],
   "source": [
    "popList = create_population(pop_size, start_node)"
   ]
  },
  {
   "cell_type": "code",
   "execution_count": 52,
   "metadata": {},
   "outputs": [],
   "source": [
    "selected_pop = elitis_selection(popList)"
   ]
  },
  {
   "cell_type": "code",
   "execution_count": 53,
   "metadata": {},
   "outputs": [],
   "source": [
    "pop_size = 300\n",
    "generation = 1000\n",
    "probabilitas_OX = 0.6\n",
    "Mutation_probability = 0.01"
   ]
  },
  {
   "cell_type": "code",
   "execution_count": 54,
   "metadata": {},
   "outputs": [
    {
     "name": "stdout",
     "output_type": "stream",
     "text": [
      "bobot untuk generasi pertama:  52\n"
     ]
    },
    {
     "ename": "NameError",
     "evalue": "name 'eliteSize' is not defined",
     "output_type": "error",
     "traceback": [
      "\u001b[1;31m---------------------------------------------------------------------------\u001b[0m",
      "\u001b[1;31mNameError\u001b[0m                                 Traceback (most recent call last)",
      "\u001b[1;32m<ipython-input-54-69619b6b645d>\u001b[0m in \u001b[0;36m<module>\u001b[1;34m\u001b[0m\n\u001b[1;32m----> 1\u001b[1;33m \u001b[0mgeneticAlgorithm\u001b[0m\u001b[1;33m(\u001b[0m\u001b[0mpop_size\u001b[0m\u001b[1;33m,\u001b[0m \u001b[0mgeneration\u001b[0m\u001b[1;33m,\u001b[0m \u001b[0mprobabilitas_OX\u001b[0m\u001b[1;33m,\u001b[0m \u001b[0mMutation_probability\u001b[0m\u001b[1;33m)\u001b[0m\u001b[1;33m\u001b[0m\u001b[1;33m\u001b[0m\u001b[0m\n\u001b[0m",
      "\u001b[1;32m<ipython-input-50-cdb66a709b81>\u001b[0m in \u001b[0;36mgeneticAlgorithm\u001b[1;34m(pop_size, generation, probabilitas_OX, Mutation_probability)\u001b[0m\n\u001b[0;32m      4\u001b[0m     \u001b[0mprint\u001b[0m\u001b[1;33m(\u001b[0m\u001b[1;34m'bobot untuk generasi pertama: '\u001b[0m\u001b[1;33m,\u001b[0m \u001b[0mcounting_weight\u001b[0m\u001b[1;33m(\u001b[0m\u001b[0mrandom\u001b[0m\u001b[1;33m.\u001b[0m\u001b[0mchoice\u001b[0m\u001b[1;33m(\u001b[0m\u001b[0mpopList\u001b[0m\u001b[1;33m)\u001b[0m\u001b[1;33m)\u001b[0m\u001b[1;33m)\u001b[0m\u001b[1;33m\u001b[0m\u001b[1;33m\u001b[0m\u001b[0m\n\u001b[0;32m      5\u001b[0m     \u001b[1;32mfor\u001b[0m \u001b[0mi\u001b[0m \u001b[1;32min\u001b[0m \u001b[0mrange\u001b[0m\u001b[1;33m(\u001b[0m\u001b[0mgeneration\u001b[0m\u001b[1;33m)\u001b[0m\u001b[1;33m:\u001b[0m\u001b[1;33m\u001b[0m\u001b[1;33m\u001b[0m\u001b[0m\n\u001b[1;32m----> 6\u001b[1;33m         \u001b[0mselected_pop\u001b[0m \u001b[1;33m=\u001b[0m \u001b[0mroulette_selection\u001b[0m\u001b[1;33m(\u001b[0m\u001b[0mpopList\u001b[0m\u001b[1;33m)\u001b[0m\u001b[1;33m\u001b[0m\u001b[1;33m\u001b[0m\u001b[0m\n\u001b[0m\u001b[0;32m      7\u001b[0m         \u001b[0mmatingPool\u001b[0m \u001b[1;33m=\u001b[0m \u001b[0mcrossover\u001b[0m\u001b[1;33m(\u001b[0m\u001b[0mprobabilitas_OX\u001b[0m\u001b[1;33m,\u001b[0m \u001b[0mselected_pop\u001b[0m\u001b[1;33m)\u001b[0m\u001b[1;33m\u001b[0m\u001b[1;33m\u001b[0m\u001b[0m\n\u001b[0;32m      8\u001b[0m         \u001b[0mpopList\u001b[0m \u001b[1;33m=\u001b[0m \u001b[0mregeneration\u001b[0m\u001b[1;33m(\u001b[0m\u001b[0mpopList\u001b[0m\u001b[1;33m,\u001b[0m \u001b[0mmatingPool\u001b[0m\u001b[1;33m)\u001b[0m\u001b[1;33m\u001b[0m\u001b[1;33m\u001b[0m\u001b[0m\n",
      "\u001b[1;32m<ipython-input-41-b9408530f643>\u001b[0m in \u001b[0;36mroulette_selection\u001b[1;34m(popList)\u001b[0m\n\u001b[0;32m      7\u001b[0m \u001b[1;33m\u001b[0m\u001b[0m\n\u001b[0;32m      8\u001b[0m     \u001b[0mnew_population\u001b[0m \u001b[1;33m=\u001b[0m \u001b[1;33m[\u001b[0m\u001b[1;33m]\u001b[0m\u001b[1;33m\u001b[0m\u001b[1;33m\u001b[0m\u001b[0m\n\u001b[1;32m----> 9\u001b[1;33m     \u001b[1;32mfor\u001b[0m \u001b[0mn\u001b[0m \u001b[1;32min\u001b[0m \u001b[0mrange\u001b[0m\u001b[1;33m(\u001b[0m\u001b[0meliteSize\u001b[0m\u001b[1;33m)\u001b[0m\u001b[1;33m:\u001b[0m\u001b[1;33m\u001b[0m\u001b[1;33m\u001b[0m\u001b[0m\n\u001b[0m\u001b[0;32m     10\u001b[0m         \u001b[0mr\u001b[0m \u001b[1;33m=\u001b[0m \u001b[0mrandom\u001b[0m\u001b[1;33m.\u001b[0m\u001b[0mrandom\u001b[0m\u001b[1;33m(\u001b[0m\u001b[1;33m)\u001b[0m\u001b[1;33m\u001b[0m\u001b[1;33m\u001b[0m\u001b[0m\n\u001b[0;32m     11\u001b[0m         \u001b[1;32mfor\u001b[0m \u001b[1;33m(\u001b[0m\u001b[0mi\u001b[0m\u001b[1;33m,\u001b[0m \u001b[0mindividual\u001b[0m\u001b[1;33m)\u001b[0m \u001b[1;32min\u001b[0m \u001b[0menumerate\u001b[0m\u001b[1;33m(\u001b[0m\u001b[0mpopList\u001b[0m\u001b[1;33m)\u001b[0m\u001b[1;33m:\u001b[0m\u001b[1;33m\u001b[0m\u001b[1;33m\u001b[0m\u001b[0m\n",
      "\u001b[1;31mNameError\u001b[0m: name 'eliteSize' is not defined"
     ]
    }
   ],
   "source": [
    "geneticAlgorithm(pop_size, generation, probabilitas_OX, Mutation_probability)"
   ]
  },
  {
   "cell_type": "code",
   "execution_count": null,
   "metadata": {},
   "outputs": [],
   "source": [
    "make_network_viz(popList[0])"
   ]
  },
  {
   "cell_type": "code",
   "execution_count": null,
   "metadata": {},
   "outputs": [],
   "source": []
  }
 ],
 "metadata": {
  "kernelspec": {
   "display_name": "Python 3",
   "language": "python",
   "name": "python3"
  },
  "language_info": {
   "codemirror_mode": {
    "name": "ipython",
    "version": 3
   },
   "file_extension": ".py",
   "mimetype": "text/x-python",
   "name": "python",
   "nbconvert_exporter": "python",
   "pygments_lexer": "ipython3",
   "version": "3.6.10"
  },
  "widgets": {
   "application/vnd.jupyter.widget-state+json": {
    "state": {},
    "version_major": 2,
    "version_minor": 0
   }
  }
 },
 "nbformat": 4,
 "nbformat_minor": 2
}
